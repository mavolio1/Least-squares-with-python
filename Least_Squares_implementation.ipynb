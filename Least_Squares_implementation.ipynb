{
 "cells": [
  {
   "cell_type": "markdown",
   "id": "e5d869b8",
   "metadata": {},
   "source": [
    "# Soluzione del problema ai minimi quadrati con diverse fattorizzazioni"
   ]
  },
  {
   "cell_type": "markdown",
   "id": "9a7adb1b",
   "metadata": {},
   "source": [
    "Vogliamo trovare l'x che minimizzi il problema dei minimi quadrati: \\\n",
    "$\\underset{x}{min} ||Ax - b||_2^2$ \\\n",
    "$A \\in \\mathbb{R}^{mxn}$ sarà la nostra matrice dei coefficienti, quindi avremo m numero dei campioni e n numero delle features. Alla nostra matrice dei dati aggiungiamo una colonna di 1 all'inizio rendendola quindi $A \\in \\mathbb{R}^{mx(n+1)}$. $b \\in \\mathbb{R}^{n}$ invece rappresenta il termine noto."
   ]
  },
  {
   "cell_type": "markdown",
   "id": "359a1b2a",
   "metadata": {},
   "source": [
    "Carichiamo quindi il dataset wine e mostriamolo a schermo. Il dataset è già suddiviso in A e b."
   ]
  },
  {
   "cell_type": "code",
   "execution_count": 1,
   "id": "86a558c2",
   "metadata": {},
   "outputs": [
    {
     "data": {
      "text/latex": [
       "$\\displaystyle \\left[\\begin{array}{ccccccccccccc}13.2 & 1.78 & 2.14 & 11.2 & 100.0 & 2.65 & 2.76 & 0.26 & 1.28 & 4.38 & 1.05 & 3.4 & 1050.0\\\\13.16 & 2.36 & 2.67 & 18.6 & 101.0 & 2.8 & 3.24 & 0.3 & 2.81 & 5.68 & 1.03 & 3.17 & 1185.0\\\\14.37 & 1.95 & 2.5 & 16.8 & 113.0 & 3.85 & 3.49 & 0.24 & 2.18 & 7.8 & 0.86 & 3.45 & 1480.0\\\\13.24 & 2.59 & 2.87 & 21.0 & 118.0 & 2.8 & 2.69 & 0.39 & 1.82 & 4.32 & 1.04 & 2.93 & 735.0\\\\14.2 & 1.76 & 2.45 & 15.2 & 112.0 & 3.27 & 3.39 & 0.34 & 1.97 & 6.75 & 1.05 & 2.85 & 1450.0\\\\14.39 & 1.87 & 2.45 & 14.6 & 96.0 & 2.5 & 2.52 & 0.3 & 1.98 & 5.25 & 1.02 & 3.58 & 1290.0\\\\14.06 & 2.15 & 2.61 & 17.6 & 121.0 & 2.6 & 2.51 & 0.31 & 1.25 & 5.05 & 1.06 & 3.58 & 1295.0\\\\14.83 & 1.64 & 2.17 & 14.0 & 97.0 & 2.8 & 2.98 & 0.29 & 1.98 & 5.2 & 1.08 & 2.85 & 1045.0\\\\13.86 & 1.35 & 2.27 & 16.0 & 98.0 & 2.98 & 3.15 & 0.22 & 1.85 & 7.22 & 1.01 & 3.55 & 1045.0\\end{array}\\right]$"
      ],
      "text/plain": [
       "Matrix([\n",
       "[ 13.2, 1.78, 2.14, 11.2, 100.0, 2.65, 2.76, 0.26, 1.28, 4.38, 1.05,  3.4, 1050.0],\n",
       "[13.16, 2.36, 2.67, 18.6, 101.0,  2.8, 3.24,  0.3, 2.81, 5.68, 1.03, 3.17, 1185.0],\n",
       "[14.37, 1.95,  2.5, 16.8, 113.0, 3.85, 3.49, 0.24, 2.18,  7.8, 0.86, 3.45, 1480.0],\n",
       "[13.24, 2.59, 2.87, 21.0, 118.0,  2.8, 2.69, 0.39, 1.82, 4.32, 1.04, 2.93,  735.0],\n",
       "[ 14.2, 1.76, 2.45, 15.2, 112.0, 3.27, 3.39, 0.34, 1.97, 6.75, 1.05, 2.85, 1450.0],\n",
       "[14.39, 1.87, 2.45, 14.6,  96.0,  2.5, 2.52,  0.3, 1.98, 5.25, 1.02, 3.58, 1290.0],\n",
       "[14.06, 2.15, 2.61, 17.6, 121.0,  2.6, 2.51, 0.31, 1.25, 5.05, 1.06, 3.58, 1295.0],\n",
       "[14.83, 1.64, 2.17, 14.0,  97.0,  2.8, 2.98, 0.29, 1.98,  5.2, 1.08, 2.85, 1045.0],\n",
       "[13.86, 1.35, 2.27, 16.0,  98.0, 2.98, 3.15, 0.22, 1.85, 7.22, 1.01, 3.55, 1045.0]])"
      ]
     },
     "metadata": {},
     "output_type": "display_data"
    }
   ],
   "source": [
    "import numpy as np\n",
    "from sklearn import datasets\n",
    "import sympy as sym\n",
    "\n",
    "A, b = datasets.load_wine(return_X_y=True)\n",
    "samples = A.shape[0]\n",
    "features = A.shape[1]\n",
    "display(sym.Matrix(A[1:10,:]))"
   ]
  },
  {
   "cell_type": "markdown",
   "id": "40dbaefa",
   "metadata": {},
   "source": [
    "All'interno di un dataset le features saranno, a meno di casi particolari, quasi sempre tutte scorrelate. Ogni feature descrive un aspetto del problema separato ed è verosimile assumere che esse non abbiano nulla in comune tra di loro. Per sicurezza controlliamo il rango della matrice."
   ]
  },
  {
   "cell_type": "code",
   "execution_count": 2,
   "id": "f6a28123",
   "metadata": {},
   "outputs": [
    {
     "name": "stdout",
     "output_type": "stream",
     "text": [
      "Rango della matrice: 13\n",
      "Numero di fetures: 13\n"
     ]
    }
   ],
   "source": [
    "print(f\"Rango della matrice: {np.linalg.matrix_rank(A)}\")\n",
    "print(f\"Numero di fetures: {features}\")"
   ]
  },
  {
   "cell_type": "markdown",
   "id": "9d671211",
   "metadata": {},
   "source": [
    "Ogni feature di questo dataset descrive un qualcosa di diverso, le unità di misura sono fuori scala e non è difficile pensare che questo possa portare a dare più importanza a certe features piuttosto che altre. Per ovviare a questo problema portiamo due approcci differenti. Il primo è di normalizzare la matrice ed il secondo è di standardizzarla. Siccome effetturare la standardizzazione è un'assunzione forte e non scontata, porto entrambi gli esempi e vedremo come i risultati cambieranno in entrambi i casi."
   ]
  },
  {
   "cell_type": "code",
   "execution_count": 3,
   "id": "aa162102",
   "metadata": {},
   "outputs": [
    {
     "data": {
      "text/latex": [
       "$\\displaystyle \\left[\\begin{array}{ccccccccccccc}0.25 & -0.5 & -0.83 & -2.49 & 0.02 & 0.57 & 0.73 & -0.82 & -0.54 & -0.29 & 0.41 & 1.11 & 0.97\\\\0.2 & 0.02 & 1.11 & -0.27 & 0.09 & 0.81 & 1.22 & -0.5 & 2.14 & 0.27 & 0.32 & 0.79 & 1.4\\\\1.69 & -0.35 & 0.49 & -0.81 & 0.93 & 2.49 & 1.47 & -0.98 & 1.03 & 1.19 & -0.43 & 1.18 & 2.33\\\\0.3 & 0.23 & 1.84 & 0.45 & 1.28 & 0.81 & 0.66 & 0.23 & 0.4 & -0.32 & 0.36 & 0.45 & -0.04\\\\1.48 & -0.52 & 0.31 & -1.29 & 0.86 & 1.56 & 1.37 & -0.18 & 0.66 & 0.73 & 0.41 & 0.34 & 2.24\\\\1.72 & -0.42 & 0.31 & -1.47 & -0.26 & 0.33 & 0.49 & -0.5 & 0.68 & 0.08 & 0.27 & 1.37 & 1.73\\\\1.31 & -0.17 & 0.89 & -0.57 & 1.49 & 0.49 & 0.48 & -0.42 & -0.6 & 0 & 0.45 & 1.37 & 1.75\\\\2.26 & -0.63 & -0.72 & -1.65 & -0.19 & 0.81 & 0.95 & -0.58 & 0.68 & 0.06 & 0.54 & 0.34 & 0.95\\\\1.06 & -0.89 & -0.35 & -1.05 & -0.12 & 1.1 & 1.13 & -1.14 & 0.45 & 0.94 & 0.23 & 1.33 & 0.95\\end{array}\\right]$"
      ],
      "text/plain": [
       "Matrix([\n",
       "[0.25,  -0.5, -0.83, -2.49,  0.02, 0.57, 0.73, -0.82, -0.54, -0.29,  0.41, 1.11,  0.97],\n",
       "[ 0.2,  0.02,  1.11, -0.27,  0.09, 0.81, 1.22,  -0.5,  2.14,  0.27,  0.32, 0.79,   1.4],\n",
       "[1.69, -0.35,  0.49, -0.81,  0.93, 2.49, 1.47, -0.98,  1.03,  1.19, -0.43, 1.18,  2.33],\n",
       "[ 0.3,  0.23,  1.84,  0.45,  1.28, 0.81, 0.66,  0.23,   0.4, -0.32,  0.36, 0.45, -0.04],\n",
       "[1.48, -0.52,  0.31, -1.29,  0.86, 1.56, 1.37, -0.18,  0.66,  0.73,  0.41, 0.34,  2.24],\n",
       "[1.72, -0.42,  0.31, -1.47, -0.26, 0.33, 0.49,  -0.5,  0.68,  0.08,  0.27, 1.37,  1.73],\n",
       "[1.31, -0.17,  0.89, -0.57,  1.49, 0.49, 0.48, -0.42,  -0.6,     0,  0.45, 1.37,  1.75],\n",
       "[2.26, -0.63, -0.72, -1.65, -0.19, 0.81, 0.95, -0.58,  0.68,  0.06,  0.54, 0.34,  0.95],\n",
       "[1.06, -0.89, -0.35, -1.05, -0.12,  1.1, 1.13, -1.14,  0.45,  0.94,  0.23, 1.33,  0.95]])"
      ]
     },
     "metadata": {},
     "output_type": "display_data"
    }
   ],
   "source": [
    "from sklearn.preprocessing import StandardScaler\n",
    "\n",
    "A_std = StandardScaler().fit_transform(A)\n",
    "display(sym.Matrix(np.around(A_std[1:10, :], 2)))"
   ]
  },
  {
   "cell_type": "code",
   "execution_count": 4,
   "id": "91629a46",
   "metadata": {},
   "outputs": [
    {
     "data": {
      "text/latex": [
       "$\\displaystyle \\left[\\begin{array}{ccccccccccccc}0.57 & 0.21 & 0.42 & 0.03 & 0.33 & 0.58 & 0.51 & 0.25 & 0.27 & 0.26 & 0.46 & 0.78 & 0.55\\\\0.56 & 0.32 & 0.7 & 0.41 & 0.34 & 0.63 & 0.61 & 0.32 & 0.76 & 0.38 & 0.45 & 0.7 & 0.65\\\\0.88 & 0.24 & 0.61 & 0.32 & 0.47 & 0.99 & 0.66 & 0.21 & 0.56 & 0.56 & 0.31 & 0.8 & 0.86\\\\0.58 & 0.37 & 0.81 & 0.54 & 0.52 & 0.63 & 0.5 & 0.49 & 0.44 & 0.26 & 0.46 & 0.61 & 0.33\\\\0.83 & 0.2 & 0.58 & 0.24 & 0.46 & 0.79 & 0.64 & 0.4 & 0.49 & 0.47 & 0.46 & 0.58 & 0.84\\\\0.88 & 0.22 & 0.58 & 0.21 & 0.28 & 0.52 & 0.46 & 0.32 & 0.5 & 0.34 & 0.44 & 0.85 & 0.72\\\\0.8 & 0.28 & 0.67 & 0.36 & 0.55 & 0.56 & 0.46 & 0.34 & 0.26 & 0.32 & 0.47 & 0.85 & 0.73\\\\1.0 & 0.18 & 0.43 & 0.18 & 0.29 & 0.63 & 0.56 & 0.3 & 0.5 & 0.33 & 0.49 & 0.58 & 0.55\\\\0.74 & 0.12 & 0.49 & 0.28 & 0.3 & 0.69 & 0.59 & 0.17 & 0.45 & 0.51 & 0.43 & 0.84 & 0.55\\end{array}\\right]$"
      ],
      "text/plain": [
       "Matrix([\n",
       "[0.57, 0.21, 0.42, 0.03, 0.33, 0.58, 0.51, 0.25, 0.27, 0.26, 0.46, 0.78, 0.55],\n",
       "[0.56, 0.32,  0.7, 0.41, 0.34, 0.63, 0.61, 0.32, 0.76, 0.38, 0.45,  0.7, 0.65],\n",
       "[0.88, 0.24, 0.61, 0.32, 0.47, 0.99, 0.66, 0.21, 0.56, 0.56, 0.31,  0.8, 0.86],\n",
       "[0.58, 0.37, 0.81, 0.54, 0.52, 0.63,  0.5, 0.49, 0.44, 0.26, 0.46, 0.61, 0.33],\n",
       "[0.83,  0.2, 0.58, 0.24, 0.46, 0.79, 0.64,  0.4, 0.49, 0.47, 0.46, 0.58, 0.84],\n",
       "[0.88, 0.22, 0.58, 0.21, 0.28, 0.52, 0.46, 0.32,  0.5, 0.34, 0.44, 0.85, 0.72],\n",
       "[ 0.8, 0.28, 0.67, 0.36, 0.55, 0.56, 0.46, 0.34, 0.26, 0.32, 0.47, 0.85, 0.73],\n",
       "[ 1.0, 0.18, 0.43, 0.18, 0.29, 0.63, 0.56,  0.3,  0.5, 0.33, 0.49, 0.58, 0.55],\n",
       "[0.74, 0.12, 0.49, 0.28,  0.3, 0.69, 0.59, 0.17, 0.45, 0.51, 0.43, 0.84, 0.55]])"
      ]
     },
     "metadata": {},
     "output_type": "display_data"
    }
   ],
   "source": [
    "from sklearn.preprocessing import MinMaxScaler\n",
    "\n",
    "A_mm = MinMaxScaler((0, 1)).fit_transform(A)\n",
    "display(sym.Matrix(np.around(A_mm[1:10, :], 2)))"
   ]
  },
  {
   "cell_type": "markdown",
   "id": "065e0f7a",
   "metadata": {},
   "source": [
    "Inseriamo ora il vettore di soli 1 come prima colonna della matrice dei dati."
   ]
  },
  {
   "cell_type": "code",
   "execution_count": 5,
   "id": "c0e36f30",
   "metadata": {},
   "outputs": [],
   "source": [
    "A_std = np.insert(A_std, 0, np.ones(samples), axis=1)\n",
    "A_mm = np.insert(A_mm, 0, np.ones(samples), axis=1)"
   ]
  },
  {
   "cell_type": "markdown",
   "id": "21c62777",
   "metadata": {},
   "source": [
    "Andiamo a suddividere i dati in train e test, utilizzando come suddivisione 70% / 30%."
   ]
  },
  {
   "cell_type": "code",
   "execution_count": 6,
   "id": "b114ece9",
   "metadata": {},
   "outputs": [],
   "source": [
    "from sklearn.model_selection import train_test_split\n",
    "\n",
    "A_std_train, A_std_test, b_std_train, b_std_test = train_test_split(A_std,\n",
    "                                                                    b,\n",
    "                                                                    test_size=0.3,\n",
    "                                                                    random_state=42)\n",
    "\n",
    "A_mm_train, A_mm_test, b_mm_train, b_mm_test = train_test_split(A_mm,\n",
    "                                                                b,\n",
    "                                                                test_size=0.3,\n",
    "                                                                random_state=42)"
   ]
  },
  {
   "cell_type": "markdown",
   "id": "888d8ad9",
   "metadata": {},
   "source": [
    "## Utility varie per la valutazione dei modelli\n",
    "\n",
    "Definisco delle liste per una visualizzazione finale dei risultati e una funzione che eseguirà il modello con dei dati randomici n volte, calcolando il tempo medio di esecuzione."
   ]
  },
  {
   "cell_type": "code",
   "execution_count": 7,
   "id": "ea4e0f2b",
   "metadata": {},
   "outputs": [],
   "source": [
    "import timeit\n",
    "import scipy.linalg as las\n",
    "from sklearn.metrics import mean_squared_error, accuracy_score\n",
    "\n",
    "model_names = ['Norm. Eq.', 'QR', 'PQR', 'SVD', 'tSVD', 'SciPy']\n",
    "acc_list_std = []\n",
    "cond_list_std = []\n",
    "time_list_std = []\n",
    "acc_list_mm = []\n",
    "cond_list_mm = []\n",
    "time_list_mm = []\n",
    "N_ITER = 10000\n",
    "\n",
    "def time_evaluation(lambda_fn, n_iter):\n",
    "    return timeit.timeit(lambda_fn, number=n_iter)"
   ]
  },
  {
   "cell_type": "markdown",
   "id": "3cd22515",
   "metadata": {},
   "source": [
    "Andiamo ora dunque a definire i vari modelli per la soluzione del problema dei minimi quadrati. Per la valutazione utilizzeremo come metriche l'errore quadratico medio, il numero di condizione della matrice, l'accuracy ed il tempo di esecuzione medio. Calcoleremo queste metriche su tutti gli algoritmi per entrambe le matrici (sia quella standardizzata, che quella normalizzata) e alla fine mostreremo dei grafici comparativi."
   ]
  },
  {
   "cell_type": "markdown",
   "id": "14abe582",
   "metadata": {},
   "source": [
    "## Soluzione dei minimi quadrati con equazioni normali\n",
    "\n",
    "Dato il sistema lineare $Ax = b$, possiamo passare alle equazioni normali moltiplicando per la trasposta, ottenendo: $A^TAx = A^Tb$. Se la matrice $A^TA$ è non singolare allora possiamo calcolare la soluzione approssimata come: $\\hat{x} = (A^TA)^{-1}A^Tb$. Il calcolo dell'inversa però è pesante dal punto di vista computazionale, quindi quello che faremo è risolvere solo il sistema. Risolvere il problema dei minimi quadrati con le equazioni normali aumenta però il condizionamento del problema a $K(A^2)$."
   ]
  },
  {
   "cell_type": "code",
   "execution_count": 8,
   "id": "ea2431e6",
   "metadata": {},
   "outputs": [],
   "source": [
    "def lsqr_n_eq(A, b):\n",
    "    x = las.solve(A.T @ A, A.T @ b)\n",
    "    return x"
   ]
  },
  {
   "cell_type": "markdown",
   "id": "35176eb1",
   "metadata": {},
   "source": [
    "### Matrice standardizzata"
   ]
  },
  {
   "cell_type": "code",
   "execution_count": 9,
   "id": "fb545625",
   "metadata": {},
   "outputs": [
    {
     "name": "stdout",
     "output_type": "stream",
     "text": [
      "MSE:\t\t  0.060\n",
      "Condition:\t  48.048\n",
      "Accuracy:\t  94.44%\n",
      "Average Time:\t  1.27 ms\n"
     ]
    }
   ],
   "source": [
    "x = lsqr_n_eq(A_std_train, b_std_train)\n",
    "b_pred = A_std_test @ x\n",
    "\n",
    "print(f\"MSE:\\t\\t {mean_squared_error(b_std_test, b_pred): 2.3f}\")\n",
    "\n",
    "cond = np.linalg.cond(A_std_train.T @ A_std_train)\n",
    "cond_list_std.append(cond)\n",
    "print(f\"Condition:\\t {cond: 2.3f}\")\n",
    "\n",
    "acc = accuracy_score(b_std_test, np.round(b_pred))* 100\n",
    "acc_list_std.append(acc)\n",
    "print(f\"Accuracy:\\t {acc: 2.2f}%\")\n",
    "\n",
    "time = time_evaluation(lambda : lsqr_n_eq(A_std_train, b_std_train), N_ITER)\n",
    "time_list_std.append(time)\n",
    "print(f\"Average Time:\\t {time: 2.2f} ms\")"
   ]
  },
  {
   "cell_type": "markdown",
   "id": "0af8de2f",
   "metadata": {},
   "source": [
    "### Matrice normalizzata"
   ]
  },
  {
   "cell_type": "code",
   "execution_count": 10,
   "id": "564ba17e",
   "metadata": {},
   "outputs": [
    {
     "name": "stdout",
     "output_type": "stream",
     "text": [
      "MSE:\t\t  0.060\n",
      "Condition:\t  792.662\n",
      "Accuracy:\t  94.44%\n",
      "Average Time:\t  1.13 ms\n"
     ]
    }
   ],
   "source": [
    "x = lsqr_n_eq(A_mm_train, b_mm_train)\n",
    "b_pred = A_mm_test @ x\n",
    "\n",
    "print(f\"MSE:\\t\\t {mean_squared_error(b_mm_test, b_pred): 2.3f}\")\n",
    "\n",
    "cond = np.linalg.cond(A_mm_train.T @ A_mm_train)\n",
    "cond_list_mm.append(cond)\n",
    "print(f\"Condition:\\t {cond: 2.3f}\")\n",
    "\n",
    "acc = accuracy_score(b_mm_test, np.round(b_pred))* 100\n",
    "acc_list_mm.append(acc)\n",
    "print(f\"Accuracy:\\t {acc: 2.2f}%\")\n",
    "\n",
    "time = time_evaluation(lambda : lsqr_n_eq(A_mm_train, b_mm_train), N_ITER)\n",
    "time_list_mm.append(time)\n",
    "print(f\"Average Time:\\t {time: 2.2f} ms\")"
   ]
  },
  {
   "cell_type": "markdown",
   "id": "ae2c566f",
   "metadata": {},
   "source": [
    "## Soluzione dei minimi quadrati con fattorizzazione QR\n",
    "\n",
    "Fattorizziamo la matrice A come due matrici QR (A = QR). Il risultato approssimato che otteniamo è: $\\hat{x} = R^{-1}Q_1^Tb$. Possiamo suddividere la matrice Q in due sottomatrici, la prima che chiamiamo $Q_1$ è composta dalle prime k colonne, dove k = rank(A), di Q. $Q_2$ è composta dalle restanti colonne di Q. Per il problema dei minimi quadrati è necessario solo calcolare le prima k colonne della matrice Q, quindi utilizziamo la modalità economica per il calcolo della fattorizzazione. Dato che il calcolo della matrice inversa è molto più pesante a livello computazionale, rimodelliamo il problema in: $R\\hat{x} = Q_1^Tb$ e risolviamo il sistema lineare così ottenuto per trovare $\\hat{x}$."
   ]
  },
  {
   "cell_type": "code",
   "execution_count": 11,
   "id": "b5dd1683",
   "metadata": {},
   "outputs": [],
   "source": [
    "def lsqr_qr(A, b):\n",
    "    Q, R = las.qr(A, overwrite_a=False, mode=\"economic\")\n",
    "    x = las.solve(R, Q.T @ b)\n",
    "    return Q, R, x"
   ]
  },
  {
   "cell_type": "markdown",
   "id": "88999690",
   "metadata": {},
   "source": [
    "### Matrice standardizzata"
   ]
  },
  {
   "cell_type": "code",
   "execution_count": 12,
   "id": "29a5c9d2",
   "metadata": {},
   "outputs": [
    {
     "name": "stdout",
     "output_type": "stream",
     "text": [
      "MSE:\t\t  0.060\n",
      "Condition:\t  6.932\n",
      "Accuracy:\t  94.44%\n",
      "Average Time:\t  3.78 ms\n"
     ]
    }
   ],
   "source": [
    "Q, R, x = lsqr_qr(A_std_train, b_std_train)\n",
    "b_pred = A_std_test @ x\n",
    "\n",
    "print(f\"MSE:\\t\\t {mean_squared_error(b_std_test, b_pred): 2.3f}\")\n",
    "\n",
    "cond = np.linalg.cond(R)\n",
    "cond_list_std.append(cond)\n",
    "print(f\"Condition:\\t {cond: 2.3f}\")\n",
    "\n",
    "acc = accuracy_score(b_std_test, np.round(b_pred))* 100\n",
    "acc_list_std.append(acc)\n",
    "print(f\"Accuracy:\\t {acc: 2.2f}%\")\n",
    "\n",
    "time = time_evaluation(lambda : lsqr_qr(A_std_train, b_std_train), N_ITER)\n",
    "time_list_std.append(time)\n",
    "print(f\"Average Time:\\t {time: 2.2f} ms\")"
   ]
  },
  {
   "cell_type": "markdown",
   "id": "b37b80cb",
   "metadata": {},
   "source": [
    "### Matrice normalizzata"
   ]
  },
  {
   "cell_type": "code",
   "execution_count": 13,
   "id": "b2e79a68",
   "metadata": {},
   "outputs": [
    {
     "name": "stdout",
     "output_type": "stream",
     "text": [
      "MSE:\t\t  0.060\n",
      "Condition:\t  28.154\n",
      "Accuracy:\t  94.44%\n",
      "Average Time:\t  3.58 ms\n"
     ]
    }
   ],
   "source": [
    "Q, R, x = lsqr_qr(A_mm_train, b_mm_train)\n",
    "b_pred = A_mm_test @ x\n",
    "\n",
    "print(f\"MSE:\\t\\t {mean_squared_error(b_mm_test, b_pred): 2.3f}\")\n",
    "\n",
    "cond = np.linalg.cond(R)\n",
    "cond_list_mm.append(cond)\n",
    "print(f\"Condition:\\t {cond: 2.3f}\")\n",
    "\n",
    "acc = accuracy_score(b_mm_test, np.round(b_pred))* 100\n",
    "acc_list_mm.append(acc)\n",
    "print(f\"Accuracy:\\t {acc: 2.2f}%\")\n",
    "\n",
    "time = time_evaluation(lambda : lsqr_qr(A_mm_train, b_mm_train), N_ITER)\n",
    "time_list_mm.append(time)\n",
    "print(f\"Average Time:\\t {time: 2.2f} ms\")"
   ]
  },
  {
   "cell_type": "markdown",
   "id": "b2dff412",
   "metadata": {},
   "source": [
    "## Soluzione dei minimi quadrati con fattorizzazione QR con pivoting\n",
    "\n",
    "In modo analogo alla soluzione con la fattorizzazione QR, andiamo a risolvere il problema con l'aggiunta del pivoting. In questo caso quello che andiamo a fare e suddividere la matrice in $AP = QR$, facendo in modo che i valori in posizione pivotale di R siano ordinati in ordine decrescente. Ci basterà quindi risolvere il problema dei minimi quadrati come abbiamo fatto con la QR classica e poi riordinare il risultato tramite le permutazioni di P."
   ]
  },
  {
   "cell_type": "code",
   "execution_count": 14,
   "id": "b9eb24ec",
   "metadata": {},
   "outputs": [],
   "source": [
    "def lsqr_pqr(A,b):\n",
    "    Q, R, P = las.qr(A, overwrite_a=False, mode=\"economic\", pivoting=True)\n",
    "    x = las.solve(R, Q.T @ b)\n",
    "    return Q, R, P, x"
   ]
  },
  {
   "cell_type": "markdown",
   "id": "816b2c5d",
   "metadata": {},
   "source": [
    "### Matrice standardizzata"
   ]
  },
  {
   "cell_type": "code",
   "execution_count": 15,
   "id": "2f8c6746",
   "metadata": {},
   "outputs": [
    {
     "name": "stdout",
     "output_type": "stream",
     "text": [
      "MSE:\t\t  0.060\n",
      "Condition:\t  6.932\n",
      "Accuracy:\t  94.44%\n",
      "Average Time:\t  2.50 ms\n"
     ]
    }
   ],
   "source": [
    "Q, R, P, x = lsqr_pqr(A_std_train, b_std_train)\n",
    "b_pred = A_std_test[:, P] @ x\n",
    "\n",
    "print(f\"MSE:\\t\\t {mean_squared_error(b_std_test, b_pred): 2.3f}\")\n",
    "\n",
    "cond = np.linalg.cond(R)\n",
    "cond_list_std.append(cond)\n",
    "print(f\"Condition:\\t {cond: 2.3f}\")\n",
    "\n",
    "acc = accuracy_score(b_std_test, np.round(b_pred)) * 100\n",
    "acc_list_std.append(acc)\n",
    "print(f\"Accuracy:\\t {acc: 2.2f}%\")\n",
    "\n",
    "time = time_evaluation(lambda : lsqr_pqr(A_std_train, b_std_train), N_ITER)\n",
    "time_list_std.append(time)\n",
    "print(f\"Average Time:\\t {time: 2.2f} ms\")"
   ]
  },
  {
   "cell_type": "markdown",
   "id": "5f94bd05",
   "metadata": {},
   "source": [
    "### Matrice normalizzata"
   ]
  },
  {
   "cell_type": "code",
   "execution_count": 16,
   "id": "9b521674",
   "metadata": {},
   "outputs": [
    {
     "name": "stdout",
     "output_type": "stream",
     "text": [
      "MSE:\t\t  0.060\n",
      "Condition:\t  28.154\n",
      "Accuracy:\t  94.44%\n",
      "Average Time:\t  2.60 ms\n"
     ]
    }
   ],
   "source": [
    "Q, R, P, x = lsqr_pqr(A_mm_train, b_mm_train)\n",
    "b_pred = A_mm_test[:, P] @ x\n",
    "\n",
    "print(f\"MSE:\\t\\t {mean_squared_error(b_mm_test, b_pred): 2.3f}\")\n",
    "\n",
    "cond = np.linalg.cond(R)\n",
    "cond_list_mm.append(cond)\n",
    "print(f\"Condition:\\t {cond: 2.3f}\")\n",
    "\n",
    "acc = accuracy_score(b_mm_test, np.round(b_pred)) * 100\n",
    "acc_list_mm.append(acc)\n",
    "print(f\"Accuracy:\\t {acc: 2.2f}%\")\n",
    "\n",
    "time = time_evaluation(lambda : lsqr_pqr(A_mm_train, b_mm_train), N_ITER)\n",
    "time_list_mm.append(time)\n",
    "print(f\"Average Time:\\t {time: 2.2f} ms\")"
   ]
  },
  {
   "cell_type": "markdown",
   "id": "d1b64dd9",
   "metadata": {},
   "source": [
    "## Soluzione dei minimi quadrati con fattorizzazione SVD\n",
    "\n",
    "Come negli esperimenti precedenti utilizziamo la fattorizzazione SVD per risolvere il problema dei minimi quadrati. In questo caso suddividiamo la matrice come: $A = U\\Sigma V^T$. Otteniamo come soluzione $\\hat{x} = V_1D^{-1}U_1^Tb$, in questo caso possiamo utilizzare la soluzione teorica poichè la matrice D è una matrice diagonale e la sua inversa è semplice da calcolare."
   ]
  },
  {
   "cell_type": "code",
   "execution_count": 17,
   "id": "ae49e759",
   "metadata": {},
   "outputs": [],
   "source": [
    "def lsqr_svd(A,b):\n",
    "    U, S, V = las.svd(A, full_matrices=False)\n",
    "    x = V.T @ np.diag(1/S) @ U.T @ b\n",
    "    return U, S, V, x"
   ]
  },
  {
   "cell_type": "markdown",
   "id": "bd1efdd6",
   "metadata": {},
   "source": [
    "### Matrice standardizzata"
   ]
  },
  {
   "cell_type": "code",
   "execution_count": 18,
   "id": "70c0a2bd",
   "metadata": {},
   "outputs": [
    {
     "name": "stdout",
     "output_type": "stream",
     "text": [
      "MSE:\t\t  0.060\n",
      "Condition:\t  6.932\n",
      "Accuracy:\t  94.44%\n",
      "Average Time:\t  3.62 ms\n"
     ]
    }
   ],
   "source": [
    "U, S, V, x = lsqr_svd(A_std_train, b_std_train)\n",
    "b_pred = A_std_test @ x\n",
    "\n",
    "print(f\"MSE:\\t\\t {mean_squared_error(b_std_test, b_pred): 2.3f}\")\n",
    "\n",
    "cond = S[0] / S[-1]\n",
    "cond_list_std.append(cond)\n",
    "print(f\"Condition:\\t {cond: 2.3f}\")\n",
    "\n",
    "acc = accuracy_score(b_std_test, np.round(b_pred)) * 100\n",
    "acc_list_std.append(acc)\n",
    "print(f\"Accuracy:\\t {acc: 2.2f}%\")\n",
    "\n",
    "time = time_evaluation(lambda : lsqr_svd(A_std_train, b_std_train), N_ITER)\n",
    "time_list_std.append(time)\n",
    "print(f\"Average Time:\\t {time: 2.2f} ms\")"
   ]
  },
  {
   "cell_type": "markdown",
   "id": "61e4c1fb",
   "metadata": {},
   "source": [
    "### Matrice normalizzata"
   ]
  },
  {
   "cell_type": "code",
   "execution_count": 19,
   "id": "4d5bf4b1",
   "metadata": {},
   "outputs": [
    {
     "name": "stdout",
     "output_type": "stream",
     "text": [
      "MSE:\t\t  0.060\n",
      "Condition:\t  28.154\n",
      "Accuracy:\t  94.44%\n",
      "Average Time:\t  3.30 ms\n"
     ]
    }
   ],
   "source": [
    "U, S, V, x = lsqr_svd(A_mm_train, b_mm_train)\n",
    "b_pred = A_mm_test @ x\n",
    "\n",
    "print(f\"MSE:\\t\\t {mean_squared_error(b_mm_test, b_pred): 2.3f}\")\n",
    "\n",
    "cond = S[0] / S[-1]\n",
    "cond_list_mm.append(cond)\n",
    "print(f\"Condition:\\t {cond: 2.3f}\")\n",
    "\n",
    "acc = accuracy_score(b_mm_test, np.round(b_pred)) * 100\n",
    "acc_list_mm.append(acc)\n",
    "print(f\"Accuracy:\\t {acc: 2.2f}%\")\n",
    "\n",
    "time = time_evaluation(lambda : lsqr_svd(A_mm_train, b_mm_train), N_ITER)\n",
    "time_list_mm.append(time)\n",
    "print(f\"Average Time:\\t {time: 2.2f} ms\")"
   ]
  },
  {
   "cell_type": "markdown",
   "id": "9f7dbc18",
   "metadata": {},
   "source": [
    "## Soluzione dei minimi quadrati con fattorizzazione SVD troncata (Eckart-Young)\n",
    "\n",
    "Il teorema di Eckart-Young ci permette di approssimare la fattorizzazione SVD ad un certo k, mantenendo una quantità di varianza spiegata. L'idea è quella di ridurre la dimensionalità delle matrici ottenute mantenendo comunque una certa precisione nel modello. Per fare ciò calcolo la SVD troncata per tutte le k possibili e stabilisco un valore soglia arbitrario, raggiunto il quale decido di troncare la fattorizzazione."
   ]
  },
  {
   "cell_type": "code",
   "execution_count": 20,
   "id": "c7a9aa42",
   "metadata": {},
   "outputs": [],
   "source": [
    "def lsqr_tsvd(A, b, k):\n",
    "    U, S, V = las.svd(A, full_matrices=False)\n",
    "    x = V.T[:,0:k] @ (np.diag(1/S[0:k])) @ U[:,0:k].T @ b\n",
    "    return U, S, V, x"
   ]
  },
  {
   "cell_type": "markdown",
   "id": "5d908b0f",
   "metadata": {},
   "source": [
    "### Matrice standardizzata"
   ]
  },
  {
   "cell_type": "code",
   "execution_count": 21,
   "id": "fe608e9e",
   "metadata": {},
   "outputs": [],
   "source": [
    "acc_tsvd_std = []\n",
    "\n",
    "for k in range(1, features+2):\n",
    "    U, S, V, x = lsqr_tsvd(A_std_train, b_std_train, k)\n",
    "    b_pred = A_std_test @ x\n",
    "    acc_tsvd_std.append(accuracy_score(b_std_test, np.round(b_pred))*100)"
   ]
  },
  {
   "cell_type": "markdown",
   "id": "3a582860",
   "metadata": {},
   "source": [
    "### Matrice normalizzata"
   ]
  },
  {
   "cell_type": "code",
   "execution_count": 22,
   "id": "6d2c94a1",
   "metadata": {},
   "outputs": [],
   "source": [
    "acc_tsvd_mm = []\n",
    "\n",
    "for k in range(1, features+2):\n",
    "    U, S, V, x = lsqr_tsvd(A_mm_train, b_mm_train, k)\n",
    "    b_pred = A_mm_test @ x\n",
    "    acc_tsvd_mm.append(accuracy_score(b_mm_test, np.round(b_pred))*100)"
   ]
  },
  {
   "cell_type": "code",
   "execution_count": 23,
   "id": "0ed87eff",
   "metadata": {},
   "outputs": [
    {
     "data": {
      "text/plain": [
       "<matplotlib.legend.Legend at 0x1ded71afd90>"
      ]
     },
     "execution_count": 23,
     "metadata": {},
     "output_type": "execute_result"
    },
    {
     "data": {
      "image/png": "[encoded data removed]",
      "text/plain": [
       "<Figure size 640x480 with 1 Axes>"
      ]
     },
     "metadata": {},
     "output_type": "display_data"
    }
   ],
   "source": [
    "import matplotlib.pyplot as plt\n",
    "\n",
    "plt.title(\"Valore dell'accuratezza al variare della troncatura con SVD\")\n",
    "plt.xlabel(\"Features\")\n",
    "plt.ylabel(\"Accuracy \")\n",
    "plt.xticks(range(1, features+2))\n",
    "plt.yticks(range(10, 100, 10))\n",
    "plt.axhline(y=90, color='r', label=\"Minimum accuracy\")\n",
    "plt.axvline(8, linestyle=\"dashed\", color='brown', alpha=0.7, label=\"Normal threshold\")\n",
    "plt.axvline(11, linestyle=\"dashed\", color='green', alpha=0.7, label=\"Standard threshold\")\n",
    "plt.plot(range(1, features+2), acc_tsvd_std, label=\"Trunkated SVD Standardized\")\n",
    "plt.plot(range(1, features+2), acc_tsvd_mm, label=\"Trunkated SVD Normalized\")\n",
    "plt.legend(fancybox=True, framealpha=0.7)"
   ]
  },
  {
   "cell_type": "markdown",
   "id": "d41e0096",
   "metadata": {},
   "source": [
    "Vediamo come che per k = 11 otteniamo un buon risultato sopra il 90% di accuratezza sul dataset standardizzato, mentre per il dataset normalizzato otteniamo questo risultato per k = 8."
   ]
  },
  {
   "cell_type": "markdown",
   "id": "8d028446",
   "metadata": {},
   "source": [
    "### Matrice standardizzata"
   ]
  },
  {
   "cell_type": "code",
   "execution_count": 24,
   "id": "c549b2bc",
   "metadata": {},
   "outputs": [
    {
     "name": "stdout",
     "output_type": "stream",
     "text": [
      "MSE:\t\t  0.069\n",
      "Condition:\t  4.587\n",
      "Accuracy:\t  90.74%\n",
      "Average Time:\t  3.46 ms\n"
     ]
    }
   ],
   "source": [
    "U, S, V, x = lsqr_tsvd(A_std_train, b_std_train, 11)\n",
    "b_pred = A_std_test @ x\n",
    "\n",
    "print(f\"MSE:\\t\\t {mean_squared_error(b_std_test, b_pred): 2.3f}\")\n",
    "\n",
    "cond = S[0] / S[11]\n",
    "cond_list_std.append(cond)\n",
    "print(f\"Condition:\\t {cond: 2.3f}\")\n",
    "\n",
    "acc = accuracy_score(b_std_test, np.round(b_pred)) * 100\n",
    "acc_list_std.append(acc)\n",
    "print(f\"Accuracy:\\t {acc: 2.2f}%\")\n",
    "\n",
    "time = time_evaluation(lambda : lsqr_tsvd(A_std_train, b_std_train, 11), N_ITER)\n",
    "time_list_std.append(time)\n",
    "print(f\"Average Time:\\t {time: 2.2f} ms\")"
   ]
  },
  {
   "cell_type": "markdown",
   "id": "bcf26419",
   "metadata": {},
   "source": [
    "### Matrice normalizzata"
   ]
  },
  {
   "cell_type": "code",
   "execution_count": 25,
   "id": "0eadbfbc",
   "metadata": {},
   "outputs": [
    {
     "name": "stdout",
     "output_type": "stream",
     "text": [
      "MSE:\t\t  0.076\n",
      "Condition:\t  16.126\n",
      "Accuracy:\t  94.44%\n",
      "Average Time:\t  3.24 ms\n"
     ]
    }
   ],
   "source": [
    "U, S, V, x = lsqr_tsvd(A_mm_train, b_mm_train, 8)\n",
    "b_pred = A_mm_test @ x\n",
    "\n",
    "print(f\"MSE:\\t\\t {mean_squared_error(b_mm_test, b_pred): 2.3f}\")\n",
    "\n",
    "cond = S[0] / S[8]\n",
    "cond_list_mm.append(cond)\n",
    "print(f\"Condition:\\t {cond: 2.3f}\")\n",
    "\n",
    "acc = accuracy_score(b_mm_test, np.round(b_pred)) * 100\n",
    "acc_list_mm.append(acc)\n",
    "print(f\"Accuracy:\\t {acc: 2.2f}%\")\n",
    "\n",
    "time = time_evaluation(lambda : lsqr_tsvd(A_mm_train, b_mm_train, 11), N_ITER)\n",
    "time_list_mm.append(time)\n",
    "print(f\"Average Time:\\t {time: 2.2f} ms\")"
   ]
  },
  {
   "cell_type": "markdown",
   "id": "db47b8c3",
   "metadata": {},
   "source": [
    "## Soluzione dei minimi quadrati con funzione implementata SciPy\n",
    "\n",
    "Come ultimo modello utilizziamo direttamente la funzione implementata all'interno di SciPy per risolvere il problema dei minimi quadrati. Facendo così abbiamo un metro di paragone per poter valutare i modelli implementati."
   ]
  },
  {
   "cell_type": "code",
   "execution_count": 26,
   "id": "0a14c2c2",
   "metadata": {},
   "outputs": [],
   "source": [
    "def lsqr(A, b):\n",
    "    x, res, rank, s = las.lstsq(A, b)\n",
    "    return x"
   ]
  },
  {
   "cell_type": "markdown",
   "id": "6c147abd",
   "metadata": {},
   "source": [
    "### Matrice standardizzata"
   ]
  },
  {
   "cell_type": "code",
   "execution_count": 27,
   "id": "0157b550",
   "metadata": {},
   "outputs": [
    {
     "name": "stdout",
     "output_type": "stream",
     "text": [
      "MSE:\t\t  0.060\n",
      "Condition:\t  6.932\n",
      "Accuracy:\t  94.44%\n",
      "Average Time:\t  3.51 ms\n"
     ]
    }
   ],
   "source": [
    "x = lsqr(A_std_train, b_std_train)\n",
    "b_pred = A_std_test @ x\n",
    "\n",
    "print(f\"MSE:\\t\\t {mean_squared_error(b_std_test, b_pred): 2.3f}\")\n",
    "\n",
    "cond = np.linalg.cond(A_std_train)\n",
    "cond_list_std.append(cond)\n",
    "print(f\"Condition:\\t {cond: 2.3f}\")\n",
    "\n",
    "acc = accuracy_score(b_std_test, np.round(b_pred)) * 100\n",
    "acc_list_std.append(acc)\n",
    "print(f\"Accuracy:\\t {acc: 2.2f}%\")\n",
    "\n",
    "time = time_evaluation(lambda : lsqr(A_std_train, b_std_train), N_ITER)\n",
    "time_list_std.append(time)\n",
    "print(f\"Average Time:\\t {time: 2.2f} ms\")"
   ]
  },
  {
   "cell_type": "markdown",
   "id": "29c5de07",
   "metadata": {},
   "source": [
    "### Matrice normalizzata"
   ]
  },
  {
   "cell_type": "code",
   "execution_count": 28,
   "id": "9a7a37aa",
   "metadata": {},
   "outputs": [
    {
     "name": "stdout",
     "output_type": "stream",
     "text": [
      "MSE:\t\t  0.060\n",
      "Condition:\t  28.154\n",
      "Accuracy:\t  94.44%\n",
      "Average Time:\t  2.76 ms\n"
     ]
    }
   ],
   "source": [
    "x = lsqr(A_mm_train, b_mm_train)\n",
    "b_pred = A_mm_test @ x\n",
    "\n",
    "print(f\"MSE:\\t\\t {mean_squared_error(b_mm_test, b_pred): 2.3f}\")\n",
    "\n",
    "cond = np.linalg.cond(A_mm_train)\n",
    "cond_list_mm.append(cond)\n",
    "print(f\"Condition:\\t {cond: 2.3f}\")\n",
    "\n",
    "acc = accuracy_score(b_mm_test, np.round(b_pred)) * 100\n",
    "acc_list_mm.append(acc)\n",
    "print(f\"Accuracy:\\t {acc: 2.2f}%\")\n",
    "\n",
    "time = time_evaluation(lambda : lsqr(A_mm_train, b_mm_train), N_ITER)\n",
    "time_list_mm.append(time)\n",
    "print(f\"Average Time:\\t {time: 2.2f} ms\")"
   ]
  },
  {
   "cell_type": "markdown",
   "id": "d1e63490",
   "metadata": {},
   "source": [
    "# Valutazione degli algoritmi\n",
    "\n",
    "Dopo aver eseguito tutti gli algoritmi sia sui dati standardizzati che su quelli normalizzati procediamo a mostrare dei grafici dei risultati ottenuti."
   ]
  },
  {
   "cell_type": "code",
   "execution_count": 29,
   "id": "a7cc650f",
   "metadata": {},
   "outputs": [
    {
     "data": {
      "image/png": "[encoded data removed]",
      "text/plain": [
       "<Figure size 700x500 with 1 Axes>"
      ]
     },
     "metadata": {},
     "output_type": "display_data"
    }
   ],
   "source": [
    "fig = plt.figure(figsize = (7, 5))\n",
    "\n",
    "X_axis = np.arange(len(model_names))\n",
    "plt.bar(X_axis - 0.2, acc_list_std, width = 0.4, label=\"STD\")\n",
    "plt.bar(X_axis + 0.2, acc_list_mm, width = 0.4, label=\"Norm\")\n",
    "plt.xticks(X_axis, model_names)\n",
    "\n",
    "plt.axhline(y=90, color='r')\n",
    "\n",
    "plt.xlabel(\"Models\")\n",
    "plt.ylabel(\"Accuracy\")\n",
    "plt.title(\"Accuracy of the models\")\n",
    "plt.legend()\n",
    "plt.show()"
   ]
  },
  {
   "cell_type": "code",
   "execution_count": 30,
   "id": "99f004a9",
   "metadata": {},
   "outputs": [
    {
     "data": {
      "image/png": "[encoded data removed]",
      "text/plain": [
       "<Figure size 700x500 with 1 Axes>"
      ]
     },
     "metadata": {},
     "output_type": "display_data"
    }
   ],
   "source": [
    "fig = plt.figure(figsize = (7, 5))\n",
    "\n",
    "X_axis = np.arange(len(model_names))\n",
    "plt.bar(X_axis - 0.2, cond_list_std, width = 0.4, label=\"STD\")\n",
    "plt.bar(X_axis + 0.2, cond_list_mm, width = 0.4, label=\"Norm\")\n",
    "plt.xticks(X_axis, model_names)\n",
    "plt.ylim(0, 300)\n",
    "plt.xlabel(\"Models\")\n",
    "plt.ylabel(\"Condition\")\n",
    "plt.title(\"Conditioning of the problem\")\n",
    "plt.legend()\n",
    "plt.show()"
   ]
  },
  {
   "cell_type": "code",
   "execution_count": 31,
   "id": "f0be8042",
   "metadata": {},
   "outputs": [
    {
     "data": {
      "image/png": "[encoded data removed]",
      "text/plain": [
       "<Figure size 700x500 with 1 Axes>"
      ]
     },
     "metadata": {},
     "output_type": "display_data"
    }
   ],
   "source": [
    "fig = plt.figure(figsize = (7, 5))\n",
    "\n",
    "X_axis = np.arange(len(model_names))\n",
    "plt.bar(X_axis - 0.2, time_list_std, width = 0.4, label=\"STD\")\n",
    "plt.bar(X_axis + 0.2, time_list_mm, width = 0.4, label=\"Norm\")\n",
    "plt.xticks(X_axis, model_names)\n",
    "plt.ylim(0, 5)\n",
    "plt.xlabel(\"Models\")\n",
    "plt.ylabel(\"Average execution time\")\n",
    "plt.title(\"Performance of the models\")\n",
    "plt.legend()\n",
    "plt.show()"
   ]
  },
  {
   "cell_type": "code",
   "execution_count": null,
   "id": "8c7b3864",
   "metadata": {},
   "outputs": [],
   "source": []
  }
 ],
 "metadata": {
  "kernelspec": {
   "display_name": "Python 3 (ipykernel)",
   "language": "python",
   "name": "python3"
  },
  "language_info": {
   "codemirror_mode": {
    "name": "ipython",
    "version": 3
   },
   "file_extension": ".py",
   "mimetype": "text/x-python",
   "name": "python",
   "nbconvert_exporter": "python",
   "pygments_lexer": "ipython3",
   "version": "3.10.9"
  }
 },
 "nbformat": 4,
 "nbformat_minor": 5
}
